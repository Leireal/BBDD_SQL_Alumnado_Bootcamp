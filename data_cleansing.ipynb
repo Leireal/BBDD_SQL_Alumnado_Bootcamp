{
 "cells": [
  {
   "cell_type": "markdown",
   "id": "b752e3b7-b961-4acb-b730-b84dceaa1bd0",
   "metadata": {},
   "source": [
    "# 1. Tratamiento de datos"
   ]
  },
  {
   "cell_type": "markdown",
   "id": "476d9542-bf6d-4e60-8e5c-ea1def418454",
   "metadata": {},
   "source": [
    "## 1.1.1 Carga de datos:"
   ]
  },
  {
   "cell_type": "markdown",
   "id": "4befd787-54e1-4051-bf23-e22fa253bd79",
   "metadata": {},
   "source": [
    "Disponemos de 4 ficheros csv que contienen los datos con los que construir la base de datos:\n",
    "- `clase_1.csv` y `clase_2.csv` contienen los datos de los alumnos pertenecientes al bootcamp de *Data Science*.\n",
    "- `clase_3.csv` y `clase_3.csv` contienen los datos de los alumnos pertenecientes al bootcamp de *Full Stack*.\n",
    "- `claustro.csv` contiene los datos del claustro de profesores.\n",
    "\n",
    "Echemos un vistazo al contenido de los csv:"
   ]
  },
  {
   "cell_type": "code",
   "execution_count": 1,
   "id": "d78c0295-a441-4335-b34f-959da93a1b84",
   "metadata": {},
   "outputs": [],
   "source": [
    "import pandas as pd"
   ]
  },
  {
   "cell_type": "code",
   "execution_count": 5,
   "id": "ea589017-fc7c-4512-a992-45411ead9412",
   "metadata": {},
   "outputs": [],
   "source": [
    "df1 = pd.read_csv(\"data/clase_1.csv\", sep = ';')\n",
    "df2 = pd.read_csv(\"data/clase_2.csv\", sep = ';')\n",
    "df3 = pd.read_csv(\"data/clase_3.csv\", sep = ';')\n",
    "df4 = pd.read_csv(\"data/clase_4.csv\", sep = ';')\n",
    "df_claustro = pd.read_csv(\"data/claustro.csv\", sep = ';')"
   ]
  },
  {
   "cell_type": "code",
   "execution_count": 44,
   "id": "79e4a77b-40a8-4a1d-82f1-65522e09d0b2",
   "metadata": {},
   "outputs": [
    {
     "data": {
      "text/html": [
       "<div>\n",
       "<style scoped>\n",
       "    .dataframe tbody tr th:only-of-type {\n",
       "        vertical-align: middle;\n",
       "    }\n",
       "\n",
       "    .dataframe tbody tr th {\n",
       "        vertical-align: top;\n",
       "    }\n",
       "\n",
       "    .dataframe thead th {\n",
       "        text-align: right;\n",
       "    }\n",
       "</style>\n",
       "<table border=\"1\" class=\"dataframe\">\n",
       "  <thead>\n",
       "    <tr style=\"text-align: right;\">\n",
       "      <th></th>\n",
       "      <th>Nombre</th>\n",
       "      <th>Email</th>\n",
       "      <th>Promoción</th>\n",
       "      <th>Fecha_comienzo</th>\n",
       "      <th>Campus</th>\n",
       "      <th>Proyecto_HLF</th>\n",
       "      <th>Proyecto_EDA</th>\n",
       "      <th>Proyecto_BBDD</th>\n",
       "      <th>Proyecto_ML</th>\n",
       "      <th>Proyecto_Deployment</th>\n",
       "    </tr>\n",
       "  </thead>\n",
       "  <tbody>\n",
       "    <tr>\n",
       "      <th>0</th>\n",
       "      <td>Jafet Casals</td>\n",
       "      <td>Jafet_Casals@gmail.com</td>\n",
       "      <td>Septiembre</td>\n",
       "      <td>18/09/2023</td>\n",
       "      <td>Madrid</td>\n",
       "      <td>Apto</td>\n",
       "      <td>No Apto</td>\n",
       "      <td>Apto</td>\n",
       "      <td>Apto</td>\n",
       "      <td>Apto</td>\n",
       "    </tr>\n",
       "  </tbody>\n",
       "</table>\n",
       "</div>"
      ],
      "text/plain": [
       "         Nombre                   Email   Promoción Fecha_comienzo  Campus  \\\n",
       "0  Jafet Casals  Jafet_Casals@gmail.com  Septiembre     18/09/2023  Madrid   \n",
       "\n",
       "  Proyecto_HLF Proyecto_EDA Proyecto_BBDD Proyecto_ML Proyecto_Deployment  \n",
       "0         Apto      No Apto          Apto        Apto                Apto  "
      ]
     },
     "execution_count": 44,
     "metadata": {},
     "output_type": "execute_result"
    }
   ],
   "source": [
    "df1.head(1)"
   ]
  },
  {
   "cell_type": "code",
   "execution_count": 45,
   "id": "f61246aa-c184-43e6-a04e-a4fdfa8f43ef",
   "metadata": {},
   "outputs": [
    {
     "data": {
      "text/html": [
       "<div>\n",
       "<style scoped>\n",
       "    .dataframe tbody tr th:only-of-type {\n",
       "        vertical-align: middle;\n",
       "    }\n",
       "\n",
       "    .dataframe tbody tr th {\n",
       "        vertical-align: top;\n",
       "    }\n",
       "\n",
       "    .dataframe thead th {\n",
       "        text-align: right;\n",
       "    }\n",
       "</style>\n",
       "<table border=\"1\" class=\"dataframe\">\n",
       "  <thead>\n",
       "    <tr style=\"text-align: right;\">\n",
       "      <th></th>\n",
       "      <th>Nombre</th>\n",
       "      <th>Email</th>\n",
       "      <th>Promoción</th>\n",
       "      <th>Fecha_comienzo</th>\n",
       "      <th>Campus</th>\n",
       "      <th>Proyecto_HLF</th>\n",
       "      <th>Proyecto_EDA</th>\n",
       "      <th>Proyecto_BBDD</th>\n",
       "      <th>Proyecto_ML</th>\n",
       "      <th>Proyecto_Deployment</th>\n",
       "    </tr>\n",
       "  </thead>\n",
       "  <tbody>\n",
       "    <tr>\n",
       "      <th>0</th>\n",
       "      <td>Guillermo Borrego</td>\n",
       "      <td>Guillermo_Borrego@gmail.com</td>\n",
       "      <td>Febrero</td>\n",
       "      <td>12/02/2024</td>\n",
       "      <td>Madrid</td>\n",
       "      <td>Apto</td>\n",
       "      <td>No Apto</td>\n",
       "      <td>No Apto</td>\n",
       "      <td>Apto</td>\n",
       "      <td>No Apto</td>\n",
       "    </tr>\n",
       "  </tbody>\n",
       "</table>\n",
       "</div>"
      ],
      "text/plain": [
       "              Nombre                        Email Promoción Fecha_comienzo  \\\n",
       "0  Guillermo Borrego  Guillermo_Borrego@gmail.com   Febrero     12/02/2024   \n",
       "\n",
       "   Campus Proyecto_HLF Proyecto_EDA Proyecto_BBDD Proyecto_ML  \\\n",
       "0  Madrid         Apto      No Apto       No Apto        Apto   \n",
       "\n",
       "  Proyecto_Deployment  \n",
       "0             No Apto  "
      ]
     },
     "execution_count": 45,
     "metadata": {},
     "output_type": "execute_result"
    }
   ],
   "source": [
    "df2.head(1)"
   ]
  },
  {
   "cell_type": "code",
   "execution_count": 46,
   "id": "13b8d5dc-b162-4176-b1e9-0d023623cb2b",
   "metadata": {},
   "outputs": [
    {
     "data": {
      "text/html": [
       "<div>\n",
       "<style scoped>\n",
       "    .dataframe tbody tr th:only-of-type {\n",
       "        vertical-align: middle;\n",
       "    }\n",
       "\n",
       "    .dataframe tbody tr th {\n",
       "        vertical-align: top;\n",
       "    }\n",
       "\n",
       "    .dataframe thead th {\n",
       "        text-align: right;\n",
       "    }\n",
       "</style>\n",
       "<table border=\"1\" class=\"dataframe\">\n",
       "  <thead>\n",
       "    <tr style=\"text-align: right;\">\n",
       "      <th></th>\n",
       "      <th>Nombre</th>\n",
       "      <th>Email</th>\n",
       "      <th>Promoción</th>\n",
       "      <th>Fecha_comienzo</th>\n",
       "      <th>Campus</th>\n",
       "      <th>Proyecto_WebDev</th>\n",
       "      <th>Proyecto_FrontEnd</th>\n",
       "      <th>Proyecto_Backend</th>\n",
       "      <th>Proyecto_React</th>\n",
       "      <th>Proyecto_FullSatck</th>\n",
       "    </tr>\n",
       "  </thead>\n",
       "  <tbody>\n",
       "    <tr>\n",
       "      <th>0</th>\n",
       "      <td>Amor Larrañaga</td>\n",
       "      <td>Amor_Larrañaga@gmail.com</td>\n",
       "      <td>Septiembre</td>\n",
       "      <td>18/09/2023</td>\n",
       "      <td>Madrid</td>\n",
       "      <td>Apto</td>\n",
       "      <td>Apto</td>\n",
       "      <td>Apto</td>\n",
       "      <td>Apto</td>\n",
       "      <td>No Apto</td>\n",
       "    </tr>\n",
       "  </tbody>\n",
       "</table>\n",
       "</div>"
      ],
      "text/plain": [
       "           Nombre                     Email   Promoción Fecha_comienzo  \\\n",
       "0  Amor Larrañaga  Amor_Larrañaga@gmail.com  Septiembre     18/09/2023   \n",
       "\n",
       "   Campus Proyecto_WebDev Proyecto_FrontEnd Proyecto_Backend Proyecto_React  \\\n",
       "0  Madrid            Apto              Apto             Apto           Apto   \n",
       "\n",
       "  Proyecto_FullSatck  \n",
       "0            No Apto  "
      ]
     },
     "execution_count": 46,
     "metadata": {},
     "output_type": "execute_result"
    }
   ],
   "source": [
    "df3.head(1)"
   ]
  },
  {
   "cell_type": "code",
   "execution_count": 47,
   "id": "dc0edc59-365f-4042-86bc-063d271d5261",
   "metadata": {},
   "outputs": [
    {
     "data": {
      "text/html": [
       "<div>\n",
       "<style scoped>\n",
       "    .dataframe tbody tr th:only-of-type {\n",
       "        vertical-align: middle;\n",
       "    }\n",
       "\n",
       "    .dataframe tbody tr th {\n",
       "        vertical-align: top;\n",
       "    }\n",
       "\n",
       "    .dataframe thead th {\n",
       "        text-align: right;\n",
       "    }\n",
       "</style>\n",
       "<table border=\"1\" class=\"dataframe\">\n",
       "  <thead>\n",
       "    <tr style=\"text-align: right;\">\n",
       "      <th></th>\n",
       "      <th>Nombre</th>\n",
       "      <th>Email</th>\n",
       "      <th>Promoción</th>\n",
       "      <th>Fecha_comienzo</th>\n",
       "      <th>Campus</th>\n",
       "      <th>Proyecto_WebDev</th>\n",
       "      <th>Proyecto_FrontEnd</th>\n",
       "      <th>Proyecto_Backend</th>\n",
       "      <th>Proyecto_React</th>\n",
       "      <th>Proyecto_FullSatck</th>\n",
       "    </tr>\n",
       "  </thead>\n",
       "  <tbody>\n",
       "    <tr>\n",
       "      <th>0</th>\n",
       "      <td>Teresa Laguna</td>\n",
       "      <td>Teresa_Laguna@gmail.com</td>\n",
       "      <td>Febrero</td>\n",
       "      <td>12/02/2024</td>\n",
       "      <td>Valencia</td>\n",
       "      <td>Apto</td>\n",
       "      <td>Apto</td>\n",
       "      <td>Apto</td>\n",
       "      <td>Apto</td>\n",
       "      <td>Apto</td>\n",
       "    </tr>\n",
       "  </tbody>\n",
       "</table>\n",
       "</div>"
      ],
      "text/plain": [
       "          Nombre                    Email Promoción Fecha_comienzo    Campus  \\\n",
       "0  Teresa Laguna  Teresa_Laguna@gmail.com   Febrero     12/02/2024  Valencia   \n",
       "\n",
       "  Proyecto_WebDev Proyecto_FrontEnd Proyecto_Backend Proyecto_React  \\\n",
       "0            Apto              Apto             Apto           Apto   \n",
       "\n",
       "  Proyecto_FullSatck  \n",
       "0               Apto  "
      ]
     },
     "execution_count": 47,
     "metadata": {},
     "output_type": "execute_result"
    }
   ],
   "source": [
    "df4.head(1)"
   ]
  },
  {
   "cell_type": "code",
   "execution_count": 10,
   "id": "e4b9eb40-98c6-44c6-b5f6-3da93326cb85",
   "metadata": {},
   "outputs": [
    {
     "data": {
      "text/html": [
       "<div>\n",
       "<style scoped>\n",
       "    .dataframe tbody tr th:only-of-type {\n",
       "        vertical-align: middle;\n",
       "    }\n",
       "\n",
       "    .dataframe tbody tr th {\n",
       "        vertical-align: top;\n",
       "    }\n",
       "\n",
       "    .dataframe thead th {\n",
       "        text-align: right;\n",
       "    }\n",
       "</style>\n",
       "<table border=\"1\" class=\"dataframe\">\n",
       "  <thead>\n",
       "    <tr style=\"text-align: right;\">\n",
       "      <th></th>\n",
       "      <th>Nombre</th>\n",
       "      <th>Rol</th>\n",
       "      <th>Vertical</th>\n",
       "      <th>Promocion</th>\n",
       "      <th>Campus</th>\n",
       "      <th>Modalidad</th>\n",
       "    </tr>\n",
       "  </thead>\n",
       "  <tbody>\n",
       "    <tr>\n",
       "      <th>0</th>\n",
       "      <td>Noa Yáñez</td>\n",
       "      <td>TA</td>\n",
       "      <td>DS</td>\n",
       "      <td>Septiembre</td>\n",
       "      <td>Madrid</td>\n",
       "      <td>Presencial</td>\n",
       "    </tr>\n",
       "    <tr>\n",
       "      <th>1</th>\n",
       "      <td>Saturnina Benitez</td>\n",
       "      <td>TA</td>\n",
       "      <td>DS</td>\n",
       "      <td>Septiembre</td>\n",
       "      <td>Madrid</td>\n",
       "      <td>Presencial</td>\n",
       "    </tr>\n",
       "    <tr>\n",
       "      <th>2</th>\n",
       "      <td>Anna Feliu</td>\n",
       "      <td>TA</td>\n",
       "      <td>FS</td>\n",
       "      <td>Septiembre</td>\n",
       "      <td>Madrid</td>\n",
       "      <td>Presencial</td>\n",
       "    </tr>\n",
       "    <tr>\n",
       "      <th>3</th>\n",
       "      <td>Rosalva Ayuso</td>\n",
       "      <td>TA</td>\n",
       "      <td>FS</td>\n",
       "      <td>Septiembre</td>\n",
       "      <td>Valencia</td>\n",
       "      <td>Presencial</td>\n",
       "    </tr>\n",
       "    <tr>\n",
       "      <th>4</th>\n",
       "      <td>Ana Sofía Ferrer</td>\n",
       "      <td>TA</td>\n",
       "      <td>FS</td>\n",
       "      <td>Febrero</td>\n",
       "      <td>Valencia</td>\n",
       "      <td>Presencial</td>\n",
       "    </tr>\n",
       "    <tr>\n",
       "      <th>5</th>\n",
       "      <td>Angélica Corral</td>\n",
       "      <td>TA</td>\n",
       "      <td>FS</td>\n",
       "      <td>Febrero</td>\n",
       "      <td>Madrid</td>\n",
       "      <td>Presencial</td>\n",
       "    </tr>\n",
       "    <tr>\n",
       "      <th>6</th>\n",
       "      <td>Ariel Lledó</td>\n",
       "      <td>TA</td>\n",
       "      <td>DS</td>\n",
       "      <td>Septiembre</td>\n",
       "      <td>Madrid</td>\n",
       "      <td>Presencial</td>\n",
       "    </tr>\n",
       "    <tr>\n",
       "      <th>7</th>\n",
       "      <td>Mario Prats</td>\n",
       "      <td>LI</td>\n",
       "      <td>FS</td>\n",
       "      <td>Febrero</td>\n",
       "      <td>Valencia</td>\n",
       "      <td>Online</td>\n",
       "    </tr>\n",
       "    <tr>\n",
       "      <th>8</th>\n",
       "      <td>Luis Ángel Suárez</td>\n",
       "      <td>LI</td>\n",
       "      <td>FS</td>\n",
       "      <td>Septiembre</td>\n",
       "      <td>Madrid</td>\n",
       "      <td>Online</td>\n",
       "    </tr>\n",
       "    <tr>\n",
       "      <th>9</th>\n",
       "      <td>María Dolores Diaz</td>\n",
       "      <td>LI</td>\n",
       "      <td>DS</td>\n",
       "      <td>Septiembre</td>\n",
       "      <td>Madrid</td>\n",
       "      <td>Online</td>\n",
       "    </tr>\n",
       "  </tbody>\n",
       "</table>\n",
       "</div>"
      ],
      "text/plain": [
       "               Nombre Rol Vertical   Promocion    Campus   Modalidad\n",
       "0           Noa Yáñez  TA       DS  Septiembre    Madrid  Presencial\n",
       "1   Saturnina Benitez  TA       DS  Septiembre    Madrid  Presencial\n",
       "2          Anna Feliu  TA       FS  Septiembre    Madrid  Presencial\n",
       "3       Rosalva Ayuso  TA       FS  Septiembre  Valencia  Presencial\n",
       "4    Ana Sofía Ferrer  TA       FS     Febrero  Valencia  Presencial\n",
       "5     Angélica Corral  TA       FS     Febrero    Madrid  Presencial\n",
       "6         Ariel Lledó  TA       DS  Septiembre    Madrid  Presencial\n",
       "7         Mario Prats  LI       FS     Febrero  Valencia      Online\n",
       "8   Luis Ángel Suárez  LI       FS  Septiembre    Madrid      Online\n",
       "9  María Dolores Diaz  LI       DS  Septiembre    Madrid      Online"
      ]
     },
     "execution_count": 10,
     "metadata": {},
     "output_type": "execute_result"
    }
   ],
   "source": [
    "df_claustro"
   ]
  },
  {
   "cell_type": "markdown",
   "id": "0f6efa28-d473-4372-a646-63f93bbdc1c5",
   "metadata": {},
   "source": [
    "### 1.1.2 Agrupación de datos:"
   ]
  },
  {
   "cell_type": "markdown",
   "id": "97a1a118-14db-4632-83d4-47460ca5059f",
   "metadata": {},
   "source": [
    "**TABLA TOTAL:**"
   ]
  },
  {
   "cell_type": "code",
   "execution_count": 34,
   "id": "6c1a5517-4300-4e83-93d5-ad70c1b562a3",
   "metadata": {},
   "outputs": [],
   "source": [
    "df_total = pd.concat([df1, df2, df3, df4], ignore_index = True)"
   ]
  },
  {
   "cell_type": "markdown",
   "id": "bcec08c8-5b18-4eea-8bff-1bc1e84fd9c9",
   "metadata": {},
   "source": [
    "## 1.2 Agrupación de datos:"
   ]
  },
  {
   "cell_type": "markdown",
   "id": "2cae8de3-c4e2-432a-ab6f-d7e2666280fd",
   "metadata": {},
   "source": [
    "Antes de subir las tablas a la **Base de Datos**, vamos a generar los DataFrames en los que agrupar los datos."
   ]
  },
  {
   "cell_type": "markdown",
   "id": "14210d35-29a4-45f7-8b3c-7c65ea4ea5a1",
   "metadata": {},
   "source": [
    "### 1.2.1 Vertical:"
   ]
  },
  {
   "cell_type": "markdown",
   "id": "05876a2f-deb6-48ed-8b42-22873b0dd116",
   "metadata": {},
   "source": [
    "**Tabla X**: Vertical\n",
    "\n",
    "Distintos Bootcamps que ofrece The Bridge."
   ]
  },
  {
   "cell_type": "code",
   "execution_count": 16,
   "id": "3bd6e86b-e892-4f39-ac2e-b7cd8503dd09",
   "metadata": {},
   "outputs": [
    {
     "data": {
      "text/html": [
       "<div>\n",
       "<style scoped>\n",
       "    .dataframe tbody tr th:only-of-type {\n",
       "        vertical-align: middle;\n",
       "    }\n",
       "\n",
       "    .dataframe tbody tr th {\n",
       "        vertical-align: top;\n",
       "    }\n",
       "\n",
       "    .dataframe thead th {\n",
       "        text-align: right;\n",
       "    }\n",
       "</style>\n",
       "<table border=\"1\" class=\"dataframe\">\n",
       "  <thead>\n",
       "    <tr style=\"text-align: right;\">\n",
       "      <th></th>\n",
       "      <th>bootcamp</th>\n",
       "    </tr>\n",
       "  </thead>\n",
       "  <tbody>\n",
       "    <tr>\n",
       "      <th>0</th>\n",
       "      <td>DS</td>\n",
       "    </tr>\n",
       "    <tr>\n",
       "      <th>1</th>\n",
       "      <td>FS</td>\n",
       "    </tr>\n",
       "  </tbody>\n",
       "</table>\n",
       "</div>"
      ],
      "text/plain": [
       "  bootcamp\n",
       "0       DS\n",
       "1       FS"
      ]
     },
     "execution_count": 16,
     "metadata": {},
     "output_type": "execute_result"
    }
   ],
   "source": [
    "df_vertical = pd.DataFrame({\n",
    "    \"bootcamp\": df_claustro[\"Vertical\"].unique()\n",
    "})\n",
    "df_vertical"
   ]
  },
  {
   "cell_type": "markdown",
   "id": "cfc4bdda-53f0-4998-a2ba-618a1bbd49c0",
   "metadata": {},
   "source": [
    "### 1.2.2 Claustro:"
   ]
  },
  {
   "cell_type": "markdown",
   "id": "e1444852-3558-4cd9-b8f4-84ec983b4fce",
   "metadata": {},
   "source": [
    "**Tabla Y:** Claustro"
   ]
  },
  {
   "cell_type": "code",
   "execution_count": 43,
   "id": "df86a5ef-d04f-460e-829a-cd2b709b3b6e",
   "metadata": {},
   "outputs": [
    {
     "data": {
      "text/html": [
       "<div>\n",
       "<style scoped>\n",
       "    .dataframe tbody tr th:only-of-type {\n",
       "        vertical-align: middle;\n",
       "    }\n",
       "\n",
       "    .dataframe tbody tr th {\n",
       "        vertical-align: top;\n",
       "    }\n",
       "\n",
       "    .dataframe thead th {\n",
       "        text-align: right;\n",
       "    }\n",
       "</style>\n",
       "<table border=\"1\" class=\"dataframe\">\n",
       "  <thead>\n",
       "    <tr style=\"text-align: right;\">\n",
       "      <th></th>\n",
       "      <th>Promoción</th>\n",
       "      <th>Fecha_comienzo</th>\n",
       "    </tr>\n",
       "  </thead>\n",
       "  <tbody>\n",
       "    <tr>\n",
       "      <th>0</th>\n",
       "      <td>Septiembre</td>\n",
       "      <td>18/09/2023</td>\n",
       "    </tr>\n",
       "    <tr>\n",
       "      <th>15</th>\n",
       "      <td>Febrero</td>\n",
       "      <td>12/02/2024</td>\n",
       "    </tr>\n",
       "  </tbody>\n",
       "</table>\n",
       "</div>"
      ],
      "text/plain": [
       "     Promoción Fecha_comienzo\n",
       "0   Septiembre     18/09/2023\n",
       "15     Febrero     12/02/2024"
      ]
     },
     "execution_count": 43,
     "metadata": {},
     "output_type": "execute_result"
    }
   ],
   "source": [
    "df_promo = df_total[[\"Promoción\", \"Fecha_comienzo\"]].drop_duplicates()\n",
    "df_promo"
   ]
  },
  {
   "cell_type": "markdown",
   "id": "4fa6b0cd-2327-4581-b0e7-64bfafca34e5",
   "metadata": {},
   "source": [
    "### 1.2.3 Campus:"
   ]
  },
  {
   "cell_type": "code",
   "execution_count": 58,
   "id": "c3253808-2b17-4dcc-8fce-38b952fe6edc",
   "metadata": {},
   "outputs": [
    {
     "data": {
      "text/html": [
       "<div>\n",
       "<style scoped>\n",
       "    .dataframe tbody tr th:only-of-type {\n",
       "        vertical-align: middle;\n",
       "    }\n",
       "\n",
       "    .dataframe tbody tr th {\n",
       "        vertical-align: top;\n",
       "    }\n",
       "\n",
       "    .dataframe thead th {\n",
       "        text-align: right;\n",
       "    }\n",
       "</style>\n",
       "<table border=\"1\" class=\"dataframe\">\n",
       "  <thead>\n",
       "    <tr style=\"text-align: right;\">\n",
       "      <th></th>\n",
       "      <th>ubicacion</th>\n",
       "    </tr>\n",
       "  </thead>\n",
       "  <tbody>\n",
       "    <tr>\n",
       "      <th>0</th>\n",
       "      <td>Madrid</td>\n",
       "    </tr>\n",
       "    <tr>\n",
       "      <th>1</th>\n",
       "      <td>Valencia</td>\n",
       "    </tr>\n",
       "  </tbody>\n",
       "</table>\n",
       "</div>"
      ],
      "text/plain": [
       "  ubicacion\n",
       "0    Madrid\n",
       "1  Valencia"
      ]
     },
     "execution_count": 58,
     "metadata": {},
     "output_type": "execute_result"
    }
   ],
   "source": [
    " df_campus = pd.DataFrame({\n",
    "    \"ubicacion\": df_claustro[\"Campus\"].unique(),\n",
    "})\n",
    "df_campus"
   ]
  },
  {
   "cell_type": "markdown",
   "id": "15b8f4e2-33b7-4efd-a273-0f054c060ca2",
   "metadata": {},
   "source": [
    "### 1.2.4 Proyecto:"
   ]
  },
  {
   "cell_type": "code",
   "execution_count": 62,
   "id": "2647eb53-f910-4999-a1c0-4e3615fba66d",
   "metadata": {},
   "outputs": [
    {
     "data": {
      "text/html": [
       "<div>\n",
       "<style scoped>\n",
       "    .dataframe tbody tr th:only-of-type {\n",
       "        vertical-align: middle;\n",
       "    }\n",
       "\n",
       "    .dataframe tbody tr th {\n",
       "        vertical-align: top;\n",
       "    }\n",
       "\n",
       "    .dataframe thead th {\n",
       "        text-align: right;\n",
       "    }\n",
       "</style>\n",
       "<table border=\"1\" class=\"dataframe\">\n",
       "  <thead>\n",
       "    <tr style=\"text-align: right;\">\n",
       "      <th></th>\n",
       "      <th>nombre_proyecto</th>\n",
       "    </tr>\n",
       "  </thead>\n",
       "  <tbody>\n",
       "    <tr>\n",
       "      <th>0</th>\n",
       "      <td>Proyecto_HLF</td>\n",
       "    </tr>\n",
       "    <tr>\n",
       "      <th>1</th>\n",
       "      <td>Proyecto_EDA</td>\n",
       "    </tr>\n",
       "    <tr>\n",
       "      <th>2</th>\n",
       "      <td>Proyecto_BBDD</td>\n",
       "    </tr>\n",
       "    <tr>\n",
       "      <th>3</th>\n",
       "      <td>Proyecto_ML</td>\n",
       "    </tr>\n",
       "    <tr>\n",
       "      <th>4</th>\n",
       "      <td>Proyecto_Deployment</td>\n",
       "    </tr>\n",
       "    <tr>\n",
       "      <th>5</th>\n",
       "      <td>Proyecto_WebDev</td>\n",
       "    </tr>\n",
       "    <tr>\n",
       "      <th>6</th>\n",
       "      <td>Proyecto_FrontEnd</td>\n",
       "    </tr>\n",
       "    <tr>\n",
       "      <th>7</th>\n",
       "      <td>Proyecto_Backend</td>\n",
       "    </tr>\n",
       "    <tr>\n",
       "      <th>8</th>\n",
       "      <td>Proyecto_React</td>\n",
       "    </tr>\n",
       "    <tr>\n",
       "      <th>9</th>\n",
       "      <td>Proyecto_FullSatck</td>\n",
       "    </tr>\n",
       "  </tbody>\n",
       "</table>\n",
       "</div>"
      ],
      "text/plain": [
       "       nombre_proyecto\n",
       "0         Proyecto_HLF\n",
       "1         Proyecto_EDA\n",
       "2        Proyecto_BBDD\n",
       "3          Proyecto_ML\n",
       "4  Proyecto_Deployment\n",
       "5      Proyecto_WebDev\n",
       "6    Proyecto_FrontEnd\n",
       "7     Proyecto_Backend\n",
       "8       Proyecto_React\n",
       "9   Proyecto_FullSatck"
      ]
     },
     "execution_count": 62,
     "metadata": {},
     "output_type": "execute_result"
    }
   ],
   "source": [
    "df_proyecto = pd.DataFrame({\n",
    "    \"nombre_proyecto\": [elem for elem in df_total.columns if \"Proyecto\" in elem],\n",
    "})\n",
    "df_proyecto"
   ]
  },
  {
   "cell_type": "markdown",
   "id": "d3a7ca4e-b707-4be7-bf12-37ad455d1f75",
   "metadata": {},
   "source": [
    "### 1.2.5 Profesorado:"
   ]
  },
  {
   "cell_type": "code",
   "execution_count": 63,
   "id": "90ea2ab8-b645-430e-9cc1-5df517e137fd",
   "metadata": {},
   "outputs": [
    {
     "data": {
      "text/html": [
       "<div>\n",
       "<style scoped>\n",
       "    .dataframe tbody tr th:only-of-type {\n",
       "        vertical-align: middle;\n",
       "    }\n",
       "\n",
       "    .dataframe tbody tr th {\n",
       "        vertical-align: top;\n",
       "    }\n",
       "\n",
       "    .dataframe thead th {\n",
       "        text-align: right;\n",
       "    }\n",
       "</style>\n",
       "<table border=\"1\" class=\"dataframe\">\n",
       "  <thead>\n",
       "    <tr style=\"text-align: right;\">\n",
       "      <th></th>\n",
       "      <th>Nombre</th>\n",
       "      <th>Rol</th>\n",
       "    </tr>\n",
       "  </thead>\n",
       "  <tbody>\n",
       "    <tr>\n",
       "      <th>0</th>\n",
       "      <td>Noa Yáñez</td>\n",
       "      <td>TA</td>\n",
       "    </tr>\n",
       "    <tr>\n",
       "      <th>1</th>\n",
       "      <td>Saturnina Benitez</td>\n",
       "      <td>TA</td>\n",
       "    </tr>\n",
       "    <tr>\n",
       "      <th>2</th>\n",
       "      <td>Anna Feliu</td>\n",
       "      <td>TA</td>\n",
       "    </tr>\n",
       "    <tr>\n",
       "      <th>3</th>\n",
       "      <td>Rosalva Ayuso</td>\n",
       "      <td>TA</td>\n",
       "    </tr>\n",
       "    <tr>\n",
       "      <th>4</th>\n",
       "      <td>Ana Sofía Ferrer</td>\n",
       "      <td>TA</td>\n",
       "    </tr>\n",
       "    <tr>\n",
       "      <th>5</th>\n",
       "      <td>Angélica Corral</td>\n",
       "      <td>TA</td>\n",
       "    </tr>\n",
       "    <tr>\n",
       "      <th>6</th>\n",
       "      <td>Ariel Lledó</td>\n",
       "      <td>TA</td>\n",
       "    </tr>\n",
       "    <tr>\n",
       "      <th>7</th>\n",
       "      <td>Mario Prats</td>\n",
       "      <td>LI</td>\n",
       "    </tr>\n",
       "    <tr>\n",
       "      <th>8</th>\n",
       "      <td>Luis Ángel Suárez</td>\n",
       "      <td>LI</td>\n",
       "    </tr>\n",
       "    <tr>\n",
       "      <th>9</th>\n",
       "      <td>María Dolores Diaz</td>\n",
       "      <td>LI</td>\n",
       "    </tr>\n",
       "  </tbody>\n",
       "</table>\n",
       "</div>"
      ],
      "text/plain": [
       "               Nombre Rol\n",
       "0           Noa Yáñez  TA\n",
       "1   Saturnina Benitez  TA\n",
       "2          Anna Feliu  TA\n",
       "3       Rosalva Ayuso  TA\n",
       "4    Ana Sofía Ferrer  TA\n",
       "5     Angélica Corral  TA\n",
       "6         Ariel Lledó  TA\n",
       "7         Mario Prats  LI\n",
       "8   Luis Ángel Suárez  LI\n",
       "9  María Dolores Diaz  LI"
      ]
     },
     "execution_count": 63,
     "metadata": {},
     "output_type": "execute_result"
    }
   ],
   "source": [
    "df_profesorado = df_claustro[[\"Nombre\", \"Rol\"]]\n",
    "df_profesorado"
   ]
  },
  {
   "cell_type": "markdown",
   "id": "cc7f538d-d57b-42c0-8f46-1b80db55adf3",
   "metadata": {},
   "source": [
    "### 1.2.6 Clase:"
   ]
  },
  {
   "cell_type": "code",
   "execution_count": null,
   "id": "9808c19f-eb3b-441b-a29d-cdd007df4b5c",
   "metadata": {},
   "outputs": [],
   "source": []
  }
 ],
 "metadata": {
  "kernelspec": {
   "display_name": "Python 3 (ipykernel)",
   "language": "python",
   "name": "python3"
  },
  "language_info": {
   "codemirror_mode": {
    "name": "ipython",
    "version": 3
   },
   "file_extension": ".py",
   "mimetype": "text/x-python",
   "name": "python",
   "nbconvert_exporter": "python",
   "pygments_lexer": "ipython3",
   "version": "3.11.11"
  }
 },
 "nbformat": 4,
 "nbformat_minor": 5
}
